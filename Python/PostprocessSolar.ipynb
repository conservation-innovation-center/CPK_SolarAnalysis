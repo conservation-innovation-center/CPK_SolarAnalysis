{
  "nbformat": 4,
  "nbformat_minor": 0,
  "metadata": {
    "colab": {
      "name": "PostprocessSolar.ipynb",
      "provenance": [],
      "collapsed_sections": [
        "qMG7StBrD-11"
      ]
    },
    "kernelspec": {
      "name": "python3",
      "display_name": "Python 3"
    },
    "language_info": {
      "name": "python"
    }
  },
  "cells": [
    {
      "cell_type": "markdown",
      "source": [
        "## Setup"
      ],
      "metadata": {
        "id": "lbH2fO881we7"
      }
    },
    {
      "cell_type": "markdown",
      "source": [
        "### Install packages"
      ],
      "metadata": {
        "id": "sB2UOiKj10Xk"
      }
    },
    {
      "cell_type": "code",
      "source": [
        "!pip install geopandas"
      ],
      "metadata": {
        "id": "KVMVfIUKvY94"
      },
      "execution_count": null,
      "outputs": []
    },
    {
      "cell_type": "code",
      "source": [
        "!pip install rasterio"
      ],
      "metadata": {
        "id": "3HWyv0C4vbaV"
      },
      "execution_count": null,
      "outputs": []
    },
    {
      "cell_type": "code",
      "execution_count": 3,
      "metadata": {
        "id": "Xo8lcFUOr7Tk"
      },
      "outputs": [],
      "source": [
        "import geopandas as gpd\n",
        "import pandas as pd\n",
        "import rasterio as rio\n",
        "import ee\n",
        "from google.colab import drive, auth\n",
        "from shapely.geometry import Point, Polygon\n",
        "import numpy as np\n",
        "from numpy.random import normal\n",
        "import json"
      ]
    },
    {
      "cell_type": "markdown",
      "source": [
        "### Authenticate"
      ],
      "metadata": {
        "id": "dBoe-_xg2E3b"
      }
    },
    {
      "cell_type": "code",
      "source": [
        "auth.authenticate_user()"
      ],
      "metadata": {
        "id": "tSEtGwwyvXQj"
      },
      "execution_count": 4,
      "outputs": []
    },
    {
      "cell_type": "code",
      "source": [
        "drive.mount('/content/drive')"
      ],
      "metadata": {
        "colab": {
          "base_uri": "https://localhost:8080/"
        },
        "id": "Kj2DuMMLvkwH",
        "outputId": "5e4a53b7-1b1e-4522-ceff-23978fd72e00"
      },
      "execution_count": 5,
      "outputs": [
        {
          "output_type": "stream",
          "name": "stdout",
          "text": [
            "Mounted at /content/drive\n"
          ]
        }
      ]
    },
    {
      "cell_type": "code",
      "source": [
        "ee.Authenticate()\n",
        "ee.Initialize()"
      ],
      "metadata": {
        "colab": {
          "base_uri": "https://localhost:8080/"
        },
        "id": "Lg2U18Qh2CLS",
        "outputId": "71077266-28c6-41de-c5ae-3221a889e0a3"
      },
      "execution_count": 6,
      "outputs": [
        {
          "output_type": "stream",
          "name": "stdout",
          "text": [
            "To authorize access needed by Earth Engine, open the following URL in a web browser and follow the instructions. If the web browser does not start automatically, please manually browse the URL below.\n",
            "\n",
            "    https://accounts.google.com/o/oauth2/auth?client_id=517222506229-vsmmajv00ul0bs7p89v5m89qs8eb9359.apps.googleusercontent.com&scope=https%3A%2F%2Fwww.googleapis.com%2Fauth%2Fearthengine+https%3A%2F%2Fwww.googleapis.com%2Fauth%2Fdevstorage.full_control&redirect_uri=urn%3Aietf%3Awg%3Aoauth%3A2.0%3Aoob&response_type=code&code_challenge=nt9m_Pu4mFhvpsK1BxgLUVWD7hAaOEAGVqi5rXDshlE&code_challenge_method=S256\n",
            "\n",
            "The authorization workflow will generate a code, which you should paste in the box below. \n",
            "Enter verification code: 4/1AX4XfWgmOr5gPqTqG6H_D2wCUkU2YEsOm_ihrzx0XsGgorn0BLEYHQNpIgk\n",
            "\n",
            "Successfully saved authorization token.\n"
          ]
        }
      ]
    },
    {
      "cell_type": "markdown",
      "source": [
        "## Clean and Harmonize solar arrays\n"
      ],
      "metadata": {
        "id": "gXSMo1y42W9Z"
      }
    },
    {
      "cell_type": "markdown",
      "source": [
        "### Create GeoDataFrame with Annual Polygons\n",
        "In this step we clean and improve the original data produced from our AI output. Assuming any arrays detected at time t should be present at time t+1, we iteratively dissolve overlaping polygons in each year, and then dissolve the resulting polygons with overlapping polygons in the following year. This fills in gaps to ensure that polygon Sij in year j = n at location i contains all polygons Sij for j<n. The resulting GeoDataFrame includes rows for each solar array in each year that it was present (array x year)."
      ],
      "metadata": {
        "id": "Yl6z1B4r4OAG"
      }
    },
    {
      "cell_type": "code",
      "source": [
        "def eliminate_overlap(gdf, group):\n",
        "  \"\"\"Eliminate overlapping polygons within a group\n",
        "  Args:\n",
        "    gdf (GeoDataFrame):\n",
        "    group (str): column name contianing group labels\n",
        "  Return:\n",
        "    GeoDataFrame:\n",
        "  \"\"\"\n",
        "  dissolved = gdf.dissolve(group, as_index = False)\n",
        "  exploded = dissolved.explode('geometry', True)\n",
        "  return(exploded)\n"
      ],
      "metadata": {
        "id": "-OOeYtw62HT1"
      },
      "execution_count": 7,
      "outputs": []
    },
    {
      "cell_type": "code",
      "source": [
        "def harmonize_years(gdf, group):\n",
        "  \"\"\"Iterate over a geodataframe by group eliminating overlapping polygons\n",
        "\n",
        "  This funciton is analagous to a groupby and reduction with groups acting as elements\n",
        "  provided to the reducer. Iterate over levels of a grouping variable, dissolving polygons \n",
        "  in the next group with output from the previous iteration.\n",
        "  Args:\n",
        "    gdf (GeoDataFrame): polygons over which to iterate. must contain a grouping variable\n",
        "    group (str): column name of grouping variable.\n",
        "  Returns: \n",
        "    GeoDataFrame\n",
        "  \"\"\" \n",
        "  groups = gdf[group].unique()\n",
        "  groups.sort()\n",
        "  print(groups)\n",
        "  gdflist = []\n",
        "  for i, g in enumerate(groups):\n",
        "    current = gdf[gdf[group] == g]\n",
        "    if i == 0:\n",
        "      eliminated = eliminate_overlap(current, group)\n",
        "      gdflist.append(eliminated)\n",
        "    else:\n",
        "      combined = current.append(gdflist[-1])\n",
        "      dissolved = combined.dissolve()\n",
        "      exploded = dissolved.explode('geometry', True)\n",
        "      exploded['system:time_start'] = g\n",
        "      gdflist.append(exploded)\n",
        "  gdf_final = gpd.GeoDataFrame(pd.concat(gdflist, ignore_index = True), crs = gdflist[0].crs)\n",
        "  return gdf_final\n"
      ],
      "metadata": {
        "id": "A6jQpacaAwzs"
      },
      "execution_count": null,
      "outputs": []
    },
    {
      "cell_type": "code",
      "source": [
        "# read our per-state data from GEE into GeoDataFrames\n",
        "fs = ['NY_solar', 'DE_solar', 'PA_solar', 'VA_solar', 'MD_solar']\n",
        "files = [f'/content/drive/MyDrive/{f}.geojson' for f in fs]\n",
        "gdfs = [gpd.read_file(f, driver = 'GeoJON') for f in files]\n",
        "gdf = gpd.GeoDataFrame(pd.concat(gdfs, ignore_index = True), crs = gdfs[0].crs)"
      ],
      "metadata": {
        "id": "D5RdDh0ERCKj"
      },
      "execution_count": 8,
      "outputs": []
    },
    {
      "cell_type": "code",
      "source": [
        "len(gdf)"
      ],
      "metadata": {
        "colab": {
          "base_uri": "https://localhost:8080/"
        },
        "id": "A_wFcXG-wp5p",
        "outputId": "663fbac0-096b-4500-cead-5cc972e798e0"
      },
      "execution_count": 10,
      "outputs": [
        {
          "output_type": "execute_result",
          "data": {
            "text/plain": [
              "2527"
            ]
          },
          "metadata": {},
          "execution_count": 10
        }
      ]
    },
    {
      "cell_type": "code",
      "source": [
        "annualGDF = harmonize_years(gdf, 'system:time_start')"
      ],
      "metadata": {
        "id": "KcqVIaTZPxuM",
        "colab": {
          "base_uri": "https://localhost:8080/"
        },
        "outputId": "119cdec0-9def-4742-e7f2-aebe59e6fd6a"
      },
      "execution_count": null,
      "outputs": [
        {
          "output_type": "stream",
          "name": "stdout",
          "text": [
            "['2017-06-01' '2018-06-01' '2019-06-01' '2020-06-01' '2021-06-01']\n"
          ]
        }
      ]
    },
    {
      "cell_type": "code",
      "source": [
        "annualGDF.head()\n",
        "# print(len(final))"
      ],
      "metadata": {
        "id": "shg4pSWMLZ-w"
      },
      "execution_count": null,
      "outputs": []
    },
    {
      "cell_type": "code",
      "source": [
        "# check that the number of arrays each year make sense (i.e should be increasing)\n",
        "annualGDF.groupby('system:time_start').size()"
      ],
      "metadata": {
        "colab": {
          "base_uri": "https://localhost:8080/"
        },
        "id": "rKt2XPghSlIb",
        "outputId": "fc1c4932-9905-43c7-f2f0-2c79403f2f4c"
      },
      "execution_count": null,
      "outputs": [
        {
          "output_type": "execute_result",
          "data": {
            "text/plain": [
              "system:time_start\n",
              "2017-06-01    111\n",
              "2018-06-01    327\n",
              "2019-06-01    596\n",
              "2020-06-01    765\n",
              "2021-06-01    938\n",
              "dtype: int64"
            ]
          },
          "metadata": {},
          "execution_count": 120
        }
      ]
    },
    {
      "cell_type": "code",
      "source": [
        "# finally, add a 'year' column\n",
        "annualGDF['year'] = final.apply(lambda x: int(x['system_tim'][0:4]), axis = 1)"
      ],
      "metadata": {
        "id": "ZIblkNa6RsRT"
      },
      "execution_count": null,
      "outputs": []
    },
    {
      "cell_type": "code",
      "source": [
        "# write data to GCS for ingestion to GEE\n",
        "outFile = 'CPK_solarJun21_annual'\n",
        "dstFile = 'gs://cic-solar-mevans'\n",
        "annualGDF.to_file(outFile+'.shp')"
      ],
      "metadata": {
        "id": "KFzSG50KONGT",
        "colab": {
          "base_uri": "https://localhost:8080/"
        },
        "outputId": "30f65a7e-9a48-47e9-a496-17368befe2a7"
      },
      "execution_count": null,
      "outputs": [
        {
          "output_type": "stream",
          "name": "stderr",
          "text": [
            "/usr/local/lib/python3.7/dist-packages/ipykernel_launcher.py:3: UserWarning: Column names longer than 10 characters will be truncated when saved to ESRI Shapefile.\n",
            "  This is separate from the ipykernel package so we can avoid doing imports until\n"
          ]
        }
      ]
    },
    {
      "cell_type": "code",
      "source": [
        "!gsutil mv {outFile}* {dstFile}"
      ],
      "metadata": {
        "id": "sCQA8DgNO1mR"
      },
      "execution_count": null,
      "outputs": []
    },
    {
      "cell_type": "code",
      "source": [
        "!earthengine upload table --asset_id projects/mevans-cic-solar/assets/CPK_solarJun21_annual {dstFile+'/'+outFile+'.shp'}"
      ],
      "metadata": {
        "colab": {
          "base_uri": "https://localhost:8080/"
        },
        "id": "3C4G2feK2d9L",
        "outputId": "48d5b22f-7aca-4983-9d86-af11fdf4c1c1"
      },
      "execution_count": null,
      "outputs": [
        {
          "output_type": "stream",
          "name": "stdout",
          "text": [
            "Started upload task with ID: A5Y3UW2JDVSF5K4HCDZNANYE\n"
          ]
        }
      ]
    },
    {
      "cell_type": "code",
      "source": [
        "del gdf"
      ],
      "metadata": {
        "id": "sDuRqfTSSJea"
      },
      "execution_count": null,
      "outputs": []
    },
    {
      "cell_type": "markdown",
      "source": [
        "### Create Dataframe with unique polygons per year\n",
        "For statistical analysis, a GeoDataFrame with the same solar array represented in multiple years leads to pseudoreplication. Therefore, we need an alternatively structure dataset in which each row represents a solar array polygon in the first year that it appeared."
      ],
      "metadata": {
        "id": "nMRLqXktOE7t"
      }
    },
    {
      "cell_type": "code",
      "source": [
        "# get the year of all overlapping polygons\n",
        "joined = gpd.sjoin(solarGDF, solarGDF[['geometry', 'year']],'left','intersects')\n",
        "# aggreate overlapping polygons retaining minimum year (i.e. year of appearance)\n",
        "dissolved = joined.dissolve(by = joined.index, aggfunc = 'min')\n",
        "# aggregate polygons per year of appearance\n",
        "dissolved2 = dissolved.dissolve(by = 'year_right', aggfunc = 'first', as_index = False)\n",
        "# convert multipart to single polygon geometries\n",
        "exploded = dissolved2.explode(ignore_index = True, index_parts = False)"
      ],
      "metadata": {
        "id": "73yYlyVeODNG"
      },
      "execution_count": null,
      "outputs": []
    },
    {
      "cell_type": "code",
      "source": [
        "outFile = 'CPK_solarJun21_firstyear'\n",
        "dstFile = 'gs://cic-solar-mevans'\n",
        "exploded.to_file(outFile+'.shp')"
      ],
      "metadata": {
        "id": "ZuUnuHtiO8s5"
      },
      "execution_count": null,
      "outputs": []
    },
    {
      "cell_type": "code",
      "source": [
        "!gsutil mv {outFile}* {dstFile}"
      ],
      "metadata": {
        "id": "_5GL4U6ePCZQ"
      },
      "execution_count": null,
      "outputs": []
    },
    {
      "cell_type": "code",
      "source": [
        "!earthengine upload table --asset_id projects/mevans-cic-solar/assets/CPK_solarJun21_firstyear {dstFile+'/'+outFile+'.shp'}"
      ],
      "metadata": {
        "id": "PBuE8rhpPEem"
      },
      "execution_count": null,
      "outputs": []
    },
    {
      "cell_type": "markdown",
      "source": [
        "## Sampling"
      ],
      "metadata": {
        "id": "E7py5sjtD7oD"
      }
    },
    {
      "cell_type": "code",
      "source": [
        "STATES = ee.FeatureCollection(\"TIGER/2018/States\")\n",
        "states = ['Pennsylvania', 'Virginia', 'New York', 'Delaware', 'Maryland']\n",
        "studyArea = STATES.filter(ee.Filter.inList('NAME', states))\n",
        "TRACTS = ee.FeatureCollection(\"TIGER/2010/Tracts_DP1\")\n",
        "tracts = TRACTS.filterMetadata('aland10', 'greater_than', 10)"
      ],
      "metadata": {
        "id": "YX3_qLkTEBDt"
      },
      "execution_count": null,
      "outputs": []
    },
    {
      "cell_type": "markdown",
      "source": [
        "### Random polygons\n",
        "We create random polygons to represent areas that could have been, but were not, developed for solar energy. Random polygons are 2:1 rectangles with size drawn from a normal distribution based on the observed mean and variance in mapped solar array sizes."
      ],
      "metadata": {
        "id": "qMG7StBrD-11"
      }
    },
    {
      "cell_type": "code",
      "source": [
        "# we will generate random \n",
        "def calc_area_sides(ft):\n",
        "  \"\"\"Estimates the side of a GEE Feature based on its area, assuming a 2:1 rectangle\n",
        "  Params:\n",
        "   ft (ee.Feature)\n",
        "  Returns:\n",
        "    ee.Feature: input features with additional attributes 'area' and 'side'\n",
        "  \"\"\"\n",
        "  area = ft.area()\n",
        "  side = area.divide(2).sqrt().divide(2)\n",
        "  return ft.set('area', area, 'side', side)\n",
        "\n",
        "solar_arrays = ee.FeatureCollection('projects/mevans-cic-solar/assets/CPK_solarJun21_firstyear').map(calc_area_sides)"
      ],
      "metadata": {
        "id": "1JRMH2dcHKyF"
      },
      "execution_count": null,
      "outputs": []
    },
    {
      "cell_type": "code",
      "source": [
        "solar_arrays.filterMetadata('system_tim', 'equals', '2021-06-01').size().getInfo()"
      ],
      "metadata": {
        "colab": {
          "base_uri": "https://localhost:8080/"
        },
        "id": "A5I4yIpNq9AV",
        "outputId": "f2b1ba72-9661-436f-f127-64f8ed374598"
      },
      "execution_count": null,
      "outputs": [
        {
          "output_type": "execute_result",
          "data": {
            "text/plain": [
              "938"
            ]
          },
          "metadata": {},
          "execution_count": 188
        }
      ]
    },
    {
      "cell_type": "code",
      "source": [
        "# we want random polygons in proportion to real solar arrrays per state\n",
        "def generate_random_perstate(state):\n",
        "  \"\"\"Generates 5x random points for the solar arrays within each state\n",
        "  Args:\n",
        "    state (str): TIGER name of state\n",
        "  Returns:\n",
        "    ee.FeatureCollection: features representing random points\n",
        "  \"\"\"\n",
        "  st = studyArea.filterMetadata('NAME', 'equals', state)\n",
        "  aoi = tracts.filterBounds(st)\n",
        "  array_subset = solar_arrays.filterBounds(st).filterMetadata('system_tim', 'equals', '2021-06-01')\n",
        "  narrays = array_subset.size()\n",
        "  random = ee.FeatureCollection.randomPoints(aoi, narrays.multiply(5))\n",
        "  return random\n"
      ],
      "metadata": {
        "id": "7saj_e6rIZq-"
      },
      "execution_count": null,
      "outputs": []
    },
    {
      "cell_type": "code",
      "source": [
        "randFtCol = studyArea.map(generate_random_perstate)#ee.FeatureCollection(ee.List(states).iterate(generate_random_perstate, ee.FeatureCollection([])))"
      ],
      "metadata": {
        "id": "FlPFe5fuJcsu"
      },
      "execution_count": null,
      "outputs": []
    },
    {
      "cell_type": "code",
      "source": [
        "mdRandom = generate_random_perstate('Maryland')\n",
        "deRandom = generate_random_perstate('Delaware')\n",
        "vaRandom = generate_random_perstate('Virginia')\n",
        "paRandom = generate_random_perstate('Pennsylvania')\n",
        "nyRandom = generate_random_perstate('New York')"
      ],
      "metadata": {
        "id": "EZlwhof7KJJ7"
      },
      "execution_count": null,
      "outputs": []
    },
    {
      "cell_type": "code",
      "source": [
        "randomFtCol = mdRandom.merge(deRandom).merge(vaRandom).merge(nyRandom).merge(paRandom)"
      ],
      "metadata": {
        "id": "lYHt5DQ1qCXm"
      },
      "execution_count": null,
      "outputs": []
    },
    {
      "cell_type": "code",
      "source": [
        "# Get the JSON objects for random points so we can build random rectangels using GeoPandas\n",
        "crs = randomFtCol.geometry().projection().crs().getInfo()\n",
        "randomPts = randomFtCol.geometry().getInfo()"
      ],
      "metadata": {
        "id": "LHsAgk7_Eeoz"
      },
      "execution_count": null,
      "outputs": []
    },
    {
      "cell_type": "code",
      "source": [
        "len(randomPts['coordinates'])"
      ],
      "metadata": {
        "colab": {
          "base_uri": "https://localhost:8080/"
        },
        "id": "RfOm4BIUgP3M",
        "outputId": "ad0dac87-50e8-4149-d907-974959c9cc14"
      },
      "execution_count": null,
      "outputs": [
        {
          "output_type": "execute_result",
          "data": {
            "text/plain": [
              "4595"
            ]
          },
          "metadata": {},
          "execution_count": 179
        }
      ]
    },
    {
      "cell_type": "code",
      "source": [
        "shapelyPts = [Point(coords) for coords in randomPts['coordinates']]"
      ],
      "metadata": {
        "id": "p41MfSB6G73T"
      },
      "execution_count": null,
      "outputs": []
    },
    {
      "cell_type": "code",
      "source": [
        "randomGdf = gpd.GeoDataFrame(geometry = shapelyPts, crs = crs)"
      ],
      "metadata": {
        "id": "dllljdatGcQZ"
      },
      "execution_count": null,
      "outputs": []
    },
    {
      "cell_type": "code",
      "source": [
        "# Alternatively, export our random points \n",
        "task = ee.batch.Export.table.toDrive(collection=randomFtCol, description='randompoints', fileFormat = 'GeoJSON')\n",
        "task.start()"
      ],
      "metadata": {
        "id": "fbkhN9ywBkx4"
      },
      "execution_count": null,
      "outputs": []
    },
    {
      "cell_type": "code",
      "source": [
        "randomGdf = gpd.read_file('/content/drive/MyDrive/randompoints.geojson', driver = 'GeoJSON')"
      ],
      "metadata": {
        "id": "O9ROwFcPDcOC"
      },
      "execution_count": null,
      "outputs": []
    },
    {
      "cell_type": "code",
      "source": [
        "randomGdf.head()"
      ],
      "metadata": {
        "id": "47a_UAwLGwrv"
      },
      "execution_count": null,
      "outputs": []
    },
    {
      "cell_type": "code",
      "source": [
        "def make_random_rectangles(gdf, loc, scale):\n",
        "  \"\"\"Construct 2y x y and y x 2y rectangles at a location with y randomly determined by mean and std\n",
        "  Args:\n",
        "    gdf (GeoDataFrame): Points at which rectangles will be created\n",
        "    loc (float): mean size of short side of rectangle\n",
        "    scale (float): std of size of short side of rectangle\n",
        "  Returns: \n",
        "    GeoDataFrame: randomly sized rectangles at input points\n",
        "  \"\"\"\n",
        "  # create an array of random radii based on input mean and std\n",
        "  geom = gdf.geometry.to_crs('epsg:3857')\n",
        "  x = geom.x\n",
        "  y= geom.y\n",
        "  random_radii = normal(loc = loc, scale = scale, size = len(gdf))\n",
        "  # this construct alternately creates 2y x y and y x 2y rectangles\n",
        "  rectangles = [Polygon([[x[i]+(i%2 +1)*random_radii[i], y[i]+(2-i%2)*random_radii[i]], [x[i]+(i%2 +1)*random_radii[i],  y[i]-(2-i%2)*random_radii[i]], [x[i]-(i%2 +1)*random_radii[i], y[i]-(2-i%2)*random_radii[i]], [x[i]-(i%2 +1)*random_radii[i], y[i]+(2-i%2)*random_radii[i]], [x[i]+(i%2 +1)*random_radii[i], y[i]+(2-i%2)*random_radii[i]]]) for i in range(len(random_radii))]\n",
        "  return gpd.GeoDataFrame(geometry = rectangles, crs = 'epsg:3857')"
      ],
      "metadata": {
        "id": "tycpNh_lEwLN"
      },
      "execution_count": null,
      "outputs": []
    },
    {
      "cell_type": "code",
      "source": [
        "# we may want to keep random polygons in GEE, so define an equivalent method\n",
        "def make_random_circles_ee(ftCol, loc, scale):\n",
        "  \"\"\"Construct a rectangle at a centroid with random width and height within a specified range\n",
        "  Args:\n",
        "    gdf:\n",
        "    loc:\n",
        "    scale:\n",
        "  Return:\n",
        "  \"\"\"\n",
        "  # create an array of random radii based on input mean and std\n",
        "  def random_radii(ft):\n",
        "    radii = normal(loc = loc, scale = scale, size = 1)[0]\n",
        "    return ft.buffer(radii)\n",
        "\n",
        "  buffered = ftCol.map(random_radii)\n",
        "  return buffered"
      ],
      "metadata": {
        "id": "1VNBDnrrNei8"
      },
      "execution_count": null,
      "outputs": []
    },
    {
      "cell_type": "code",
      "source": [
        "# calculate the mean and std of the short side of rectangles with area equal to mapped solar arrays\n",
        "side_mean = solar_arrays.aggregate_mean('side').getInfo()\n",
        "side_sd = solar_arrays.aggregate_sample_sd('side').getInfo()"
      ],
      "metadata": {
        "id": "cCUCzmkJQZvr"
      },
      "execution_count": null,
      "outputs": []
    },
    {
      "cell_type": "code",
      "source": [
        "print(side_sd)"
      ],
      "metadata": {
        "colab": {
          "base_uri": "https://localhost:8080/"
        },
        "id": "CN5QqJUaQyqw",
        "outputId": "6278f986-558a-435e-9a6b-cfe3253fc1d8"
      },
      "execution_count": null,
      "outputs": [
        {
          "output_type": "stream",
          "name": "stdout",
          "text": [
            "46.85494095575329\n"
          ]
        }
      ]
    },
    {
      "cell_type": "code",
      "source": [
        "# generate random rectangles at our random points\n",
        "rectanglesGdf = make_random_rectangles(randomGdf, side_mean, side_sd)\n",
        "len(rectanglesGdf) == len(randomGdf)"
      ],
      "metadata": {
        "id": "_mT3sOvHNPtt"
      },
      "execution_count": null,
      "outputs": []
    },
    {
      "cell_type": "code",
      "source": [
        ""
      ],
      "metadata": {
        "id": "qpqiSjRUsORd"
      },
      "execution_count": null,
      "outputs": []
    },
    {
      "cell_type": "code",
      "source": [
        "# convert rectangles to GEE FeatureCollection and assign year = 2030 to distinguish from real arrays\n",
        "rectanglesJson = json.loads(rectanglesGdf.geometry.to_crs('epsg:4326').to_json())\n",
        "rectanglesFtCol = ee.FeatureCollection(rectanglesJson).map(lambda x:x.set('year', '2030'))"
      ],
      "metadata": {
        "id": "prITjyRes3G_"
      },
      "execution_count": null,
      "outputs": []
    },
    {
      "cell_type": "code",
      "source": [
        "task = ee.batch.Export.table.toAsset(collection =rectanglesFtCol, description = 'random rectangles', assetId = 'projects/mevans-cic-solar/assets/random_arrays' )\n",
        "task.start()"
      ],
      "metadata": {
        "id": "ryiYWgKFtGoD"
      },
      "execution_count": null,
      "outputs": []
    },
    {
      "cell_type": "markdown",
      "source": [
        "### Sample raster data\n",
        "We use GEE to efficiently sample covariates at real and random solar arrays that are represented as rasters"
      ],
      "metadata": {
        "id": "ySPmhiIZ2ncO"
      }
    },
    {
      "cell_type": "code",
      "source": [
        "NLCD = ee.ImageCollection(\"USGS/NLCD_RELEASES/2016_REL\")\n",
        "SRTM = ee.Image(\"USGS/SRTMGL1_003\")\n",
        "STATES = ee.FeatureCollection(\"TIGER/2018/States\")\n",
        "DEM = ee.Image(\"USGS/3DEP/10m\")\n",
        "CDL = ee.ImageCollection(\"USDA/NASS/CDL\")\n",
        "randomArrays = ee.FeatureCollection(\"projects/mevans-cic-solar/assets/random_arrays\")\n",
        "arrays = ee.FeatureCollection(\"projects/mevans-cic-solar/assets/Outputs/CPK_solarJun21_firstyear\")"
      ],
      "metadata": {
        "id": "TlgOeMep2qR4"
      },
      "execution_count": null,
      "outputs": []
    },
    {
      "cell_type": "code",
      "source": [
        "# create predictor variables based on NLCD 2016 data\n",
        "nlcd16 = ee.Image('USGS/NLCD_RELEASES/2016_REL/2016').clip(studyArea)\n",
        "\n",
        "landcover = nlcd16.select('landcover')\n",
        "\n",
        "# percent impervious surface per pixel\n",
        "impervious = nlcd16.select('impervious')\n",
        "\n",
        "# percent tree cover per pixel\n",
        "tree_cover = nlcd16.select('percent_tree_cover')\n",
        "\n",
        "cdl = ee.Image(CDL.filterBounds(studyArea).filterDate('2016-01-01', '2016-12-31').first()).clip(studyArea)\n",
        "\n",
        "# 0-1 indicator of agriculture per pixel\n",
        "ag = cdl.select('cultivated').subtract(0)\n",
        "\n",
        "# 0-1 indicator of non-agricultural 'open' land (e.g. fields, lawns, etc.)\n",
        "open = landcover.eq(52).Or(landcover.eq(71)).Or(landcover.eq(21)).Or(landcover.eq(22));\n",
        "\n",
        "# 10 m slope\n",
        "dem = DEM.clip(studyArea)\n",
        "slope = ee.Terrain.slope(dem).rename('slope')"
      ],
      "metadata": {
        "id": "oxA2sKbc3T2U"
      },
      "execution_count": null,
      "outputs": []
    },
    {
      "cell_type": "code",
      "source": [
        "# combine predictor variables into single ee.Image\n",
        "data = slope.addBands(ag).addBands(tree_cover).addBands(impervious).addBands(open)\n",
        "\n",
        "# sample raster data at solar arrays\n",
        "Ns = arrays.size().getInfo()\n",
        "solarList = arrays.toList(Ns)\n",
        "\n",
        "print(Ns)\n",
        "x = 0\n",
        "# while x < Ns:\n",
        "  # subset = ee.FeatureCollection(solarList.slice(x, x+500))\n",
        "arraySample = data.reduceRegions(\n",
        "  collection= arrays,\n",
        "  reducer= ee.Reducer.mean(),\n",
        "  scale= 10,\n",
        "  tileScale= 12\n",
        ")\n",
        "\n",
        "# save raster predictor data \n",
        "task1 = ee.batch.Export.table.toAsset(\n",
        "  collection= arraySample,\n",
        "  assetId = 'projects/mevans-cic-solar/assets/Outputs/CPK_arrays_covariates',\n",
        "  description= 'CPK_arrays_covariates'\n",
        ")\n",
        "\n",
        "task1.start()\n",
        "  \n",
        "  # x+=500\n",
        "# and export to Drive\n",
        "task2 = ee.batch.Export.table.toDrive(\n",
        "    collection = arraySample,\n",
        "    description = 'CPK_arrays_covariates',\n",
        "    fileFormat = 'GeoJSON'\n",
        ")\n",
        "\n",
        "task2.start()"
      ],
      "metadata": {
        "colab": {
          "base_uri": "https://localhost:8080/"
        },
        "id": "w6lCNQYE3cYr",
        "outputId": "8ae445fb-bf42-4b61-f1c0-4a927b41e944"
      },
      "execution_count": null,
      "outputs": [
        {
          "output_type": "stream",
          "name": "stdout",
          "text": [
            "953\n"
          ]
        }
      ]
    },
    {
      "cell_type": "code",
      "source": [
        "# sample raster data at random polygons\n",
        "Nr = randomArrays.size().getInfo()\n",
        "randomList = randomArrays.toList(Nr)\n",
        "\n",
        "print(Nr)\n",
        "# x = 0\n",
        "# while x < Nr:\n",
        "  # subset = ee.FeatureCollection(randomList.slice(x, x+500))\n",
        "randomSample = data.reduceRegions(\n",
        "  collection= randomArrays,\n",
        "  reducer= ee.Reducer.mean(),\n",
        "  scale= 10,\n",
        "  tileScale= 12\n",
        ")\n",
        "\n",
        "task3 = ee.batch.Export.table.toAsset(\n",
        "  collection= randomSample,\n",
        "  assetId = 'projects/mevans-cic-solar/assets/CPK_random_covariates',\n",
        "  description= 'CPK_random_covariates'\n",
        ")\n",
        "\n",
        "task3.start()\n",
        "\n",
        "# and export to Drive\n",
        "task4 = ee.batch.Export.table.toDrive(\n",
        "    collection = randomSample,\n",
        "    description = 'CPK_random_covariates',\n",
        "    fileFormat = 'GeoJSON'\n",
        ")\n",
        "\n",
        "task4.start()\n",
        "  # x+=500"
      ],
      "metadata": {
        "colab": {
          "base_uri": "https://localhost:8080/"
        },
        "id": "qQ2XUK-L3vWa",
        "outputId": "4a3325dd-4c3e-4bec-8659-57891f32c6ad"
      },
      "execution_count": null,
      "outputs": [
        {
          "output_type": "stream",
          "name": "stdout",
          "text": [
            "4595\n"
          ]
        }
      ]
    },
    {
      "cell_type": "code",
      "source": [
        "task.status()"
      ],
      "metadata": {
        "colab": {
          "base_uri": "https://localhost:8080/"
        },
        "id": "JR_Q1EerYNS2",
        "outputId": "e5b50fed-361a-4f85-dc77-9aedcd694373"
      },
      "execution_count": null,
      "outputs": [
        {
          "output_type": "execute_result",
          "data": {
            "text/plain": [
              "{'attempt': 1,\n",
              " 'creation_timestamp_ms': 1645584335331,\n",
              " 'description': 'CPK_random_GEEcovariates',\n",
              " 'id': 'HX52K7GIZRH7MWP6X576ZDTH',\n",
              " 'name': 'projects/earthengine-legacy/operations/HX52K7GIZRH7MWP6X576ZDTH',\n",
              " 'start_timestamp_ms': 1645584373534,\n",
              " 'state': 'RUNNING',\n",
              " 'task_type': 'EXPORT_FEATURES',\n",
              " 'update_timestamp_ms': 1645587223652}"
            ]
          },
          "metadata": {},
          "execution_count": 29
        }
      ]
    }
  ]
}